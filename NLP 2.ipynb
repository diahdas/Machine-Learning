{
  "nbformat": 4,
  "nbformat_minor": 0,
  "metadata": {
    "colab": {
      "name": "Dicoding - NLP",
      "provenance": [],
      "toc_visible": true
    },
    "kernelspec": {
      "name": "python3",
      "display_name": "Python 3"
    },
    "accelerator": "GPU"
  },
  "cells": [
    {
      "cell_type": "markdown",
      "metadata": {
        "id": "4Kf38Wlkn1Z_",
        "colab_type": "text"
      },
      "source": [
        "#### Submission 1: NLP\n",
        "# News Category Prediction\n",
        "\n",
        "\n",
        "Oleh: Diah Ayu Setyaningsih"
      ]
    },
    {
      "cell_type": "markdown",
      "metadata": {
        "id": "REkKx1irpFNu",
        "colab_type": "text"
      },
      "source": [
        "## Kaggle API configuration\n",
        "\n",
        "Sebelumnya, upload API token dari kaggle (kaggle.json) ke colab terlebih dahulu."
      ]
    },
    {
      "cell_type": "code",
      "metadata": {
        "id": "Gd2s7TT9IdZh",
        "colab_type": "code",
        "colab": {
          "base_uri": "https://localhost:8080/",
          "height": 196
        },
        "outputId": "d646d883-4a4c-41b6-81c4-18cdaa4de9b7"
      },
      "source": [
        "!pip install kaggle\n",
        "!mkdir ~/.kaggle\n",
        "!cp kaggle.json ~/.kaggle/\n",
        "!chmod 600 ~/.kaggle/kaggle.json"
      ],
      "execution_count": 1,
      "outputs": [
        {
          "output_type": "stream",
          "text": [
            "Requirement already satisfied: kaggle in /usr/local/lib/python3.6/dist-packages (1.5.6)\n",
            "Requirement already satisfied: certifi in /usr/local/lib/python3.6/dist-packages (from kaggle) (2020.6.20)\n",
            "Requirement already satisfied: tqdm in /usr/local/lib/python3.6/dist-packages (from kaggle) (4.41.1)\n",
            "Requirement already satisfied: python-dateutil in /usr/local/lib/python3.6/dist-packages (from kaggle) (2.8.1)\n",
            "Requirement already satisfied: six>=1.10 in /usr/local/lib/python3.6/dist-packages (from kaggle) (1.15.0)\n",
            "Requirement already satisfied: python-slugify in /usr/local/lib/python3.6/dist-packages (from kaggle) (4.0.1)\n",
            "Requirement already satisfied: urllib3<1.25,>=1.21.1 in /usr/local/lib/python3.6/dist-packages (from kaggle) (1.24.3)\n",
            "Requirement already satisfied: requests in /usr/local/lib/python3.6/dist-packages (from kaggle) (2.23.0)\n",
            "Requirement already satisfied: text-unidecode>=1.3 in /usr/local/lib/python3.6/dist-packages (from python-slugify->kaggle) (1.3)\n",
            "Requirement already satisfied: chardet<4,>=3.0.2 in /usr/local/lib/python3.6/dist-packages (from requests->kaggle) (3.0.4)\n",
            "Requirement already satisfied: idna<3,>=2.5 in /usr/local/lib/python3.6/dist-packages (from requests->kaggle) (2.10)\n"
          ],
          "name": "stdout"
        }
      ]
    },
    {
      "cell_type": "markdown",
      "metadata": {
        "id": "agiomHtnpdD7",
        "colab_type": "text"
      },
      "source": [
        "## Download Dataset"
      ]
    },
    {
      "cell_type": "code",
      "metadata": {
        "id": "Ttdy4ia8MLEU",
        "colab_type": "code",
        "colab": {
          "base_uri": "https://localhost:8080/",
          "height": 66
        },
        "outputId": "8052acf4-ce86-44e8-e98c-dba150ca8a8e"
      },
      "source": [
        "!kaggle datasets download saurabh502/mh-newspred"
      ],
      "execution_count": 2,
      "outputs": [
        {
          "output_type": "stream",
          "text": [
            "Downloading mh-newspred.zip to /content\n",
            "\r  0% 0.00/2.68M [00:00<?, ?B/s]\n",
            "\r100% 2.68M/2.68M [00:00<00:00, 89.9MB/s]\n"
          ],
          "name": "stdout"
        }
      ]
    },
    {
      "cell_type": "code",
      "metadata": {
        "id": "yypWoIFUJX-H",
        "colab_type": "code",
        "colab": {
          "base_uri": "https://localhost:8080/",
          "height": 82
        },
        "outputId": "4d08c533-9fcb-4486-a29a-245d10b4b615"
      },
      "source": [
        "!unzip /content/mh-newspred.zip"
      ],
      "execution_count": 3,
      "outputs": [
        {
          "output_type": "stream",
          "text": [
            "Archive:  /content/mh-newspred.zip\n",
            "  inflating: Data_Test.xlsx          \n",
            "  inflating: Data_Train.xlsx         \n",
            "  inflating: Sample_submission.xlsx  \n"
          ],
          "name": "stdout"
        }
      ]
    },
    {
      "cell_type": "markdown",
      "metadata": {
        "id": "xec-EGXIppbL",
        "colab_type": "text"
      },
      "source": [
        "## Import Module"
      ]
    },
    {
      "cell_type": "code",
      "metadata": {
        "id": "B0M3AghWJfwD",
        "colab_type": "code",
        "colab": {
          "base_uri": "https://localhost:8080/",
          "height": 98
        },
        "outputId": "86697fbf-677a-4997-b3eb-98faf96effc3"
      },
      "source": [
        "import numpy as np\n",
        "import pandas as pd \n",
        "import matplotlib.pyplot as plt\n",
        "\n",
        "from sklearn.model_selection import train_test_split\n",
        "\n",
        "import tensorflow as tf\n",
        "from tensorflow.keras.preprocessing.text import Tokenizer\n",
        "from tensorflow.keras.preprocessing.sequence import pad_sequences\n",
        "\n",
        "import nltk\n",
        "from nltk.corpus import stopwords\n",
        "from nltk.stem import WordNetLemmatizer\n",
        "\n",
        "nltk.download('stopwords')\n",
        "nltk.download('wordnet')"
      ],
      "execution_count": 4,
      "outputs": [
        {
          "output_type": "stream",
          "text": [
            "[nltk_data] Downloading package stopwords to /root/nltk_data...\n",
            "[nltk_data]   Unzipping corpora/stopwords.zip.\n",
            "[nltk_data] Downloading package wordnet to /root/nltk_data...\n",
            "[nltk_data]   Unzipping corpora/wordnet.zip.\n"
          ],
          "name": "stdout"
        },
        {
          "output_type": "execute_result",
          "data": {
            "text/plain": [
              "True"
            ]
          },
          "metadata": {
            "tags": []
          },
          "execution_count": 4
        }
      ]
    },
    {
      "cell_type": "markdown",
      "metadata": {
        "id": "F1XR9GaKqscM",
        "colab_type": "text"
      },
      "source": [
        "## Import Dataset\n",
        "Dataset ini berisi 7628 sampel konten utama dari artikel (STORY) beserta kategorinya (SECTION). Terdapat empat kategori yaitu Politik (0), Teknologi (1), Entertainment (2), dan Bisnis (3)."
      ]
    },
    {
      "cell_type": "code",
      "metadata": {
        "id": "473RkcIGJhvJ",
        "colab_type": "code",
        "colab": {
          "base_uri": "https://localhost:8080/",
          "height": 191
        },
        "outputId": "95b7f23c-e61f-45a3-ff4f-839f42bd77b2"
      },
      "source": [
        "df = pd.read_excel('/content/Data_Train.xlsx')\n",
        "df.head()"
      ],
      "execution_count": 5,
      "outputs": [
        {
          "output_type": "execute_result",
          "data": {
            "text/html": [
              "<div>\n",
              "<style scoped>\n",
              "    .dataframe tbody tr th:only-of-type {\n",
              "        vertical-align: middle;\n",
              "    }\n",
              "\n",
              "    .dataframe tbody tr th {\n",
              "        vertical-align: top;\n",
              "    }\n",
              "\n",
              "    .dataframe thead th {\n",
              "        text-align: right;\n",
              "    }\n",
              "</style>\n",
              "<table border=\"1\" class=\"dataframe\">\n",
              "  <thead>\n",
              "    <tr style=\"text-align: right;\">\n",
              "      <th></th>\n",
              "      <th>STORY</th>\n",
              "      <th>SECTION</th>\n",
              "    </tr>\n",
              "  </thead>\n",
              "  <tbody>\n",
              "    <tr>\n",
              "      <th>0</th>\n",
              "      <td>But the most painful was the huge reversal in ...</td>\n",
              "      <td>3</td>\n",
              "    </tr>\n",
              "    <tr>\n",
              "      <th>1</th>\n",
              "      <td>How formidable is the opposition alliance amon...</td>\n",
              "      <td>0</td>\n",
              "    </tr>\n",
              "    <tr>\n",
              "      <th>2</th>\n",
              "      <td>Most Asian currencies were trading lower today...</td>\n",
              "      <td>3</td>\n",
              "    </tr>\n",
              "    <tr>\n",
              "      <th>3</th>\n",
              "      <td>If you want to answer any question, click on ‘...</td>\n",
              "      <td>1</td>\n",
              "    </tr>\n",
              "    <tr>\n",
              "      <th>4</th>\n",
              "      <td>In global markets, gold prices edged up today ...</td>\n",
              "      <td>3</td>\n",
              "    </tr>\n",
              "  </tbody>\n",
              "</table>\n",
              "</div>"
            ],
            "text/plain": [
              "                                               STORY  SECTION\n",
              "0  But the most painful was the huge reversal in ...        3\n",
              "1  How formidable is the opposition alliance amon...        0\n",
              "2  Most Asian currencies were trading lower today...        3\n",
              "3  If you want to answer any question, click on ‘...        1\n",
              "4  In global markets, gold prices edged up today ...        3"
            ]
          },
          "metadata": {
            "tags": []
          },
          "execution_count": 5
        }
      ]
    },
    {
      "cell_type": "code",
      "metadata": {
        "id": "5DIcXc6T4692",
        "colab_type": "code",
        "colab": {
          "base_uri": "https://localhost:8080/",
          "height": 33
        },
        "outputId": "014184d2-1f0f-42a3-e924-7be7ee7005d7"
      },
      "source": [
        "df.shape"
      ],
      "execution_count": 6,
      "outputs": [
        {
          "output_type": "execute_result",
          "data": {
            "text/plain": [
              "(7628, 2)"
            ]
          },
          "metadata": {
            "tags": []
          },
          "execution_count": 6
        }
      ]
    },
    {
      "cell_type": "code",
      "metadata": {
        "id": "4RVjsTyYMk6c",
        "colab_type": "code",
        "colab": {
          "base_uri": "https://localhost:8080/",
          "height": 98
        },
        "outputId": "d3f74f6a-e369-4113-eba0-97b3956a1018"
      },
      "source": [
        "df.SECTION.value_counts()"
      ],
      "execution_count": 7,
      "outputs": [
        {
          "output_type": "execute_result",
          "data": {
            "text/plain": [
              "1    2772\n",
              "2    1924\n",
              "0    1686\n",
              "3    1246\n",
              "Name: SECTION, dtype: int64"
            ]
          },
          "metadata": {
            "tags": []
          },
          "execution_count": 7
        }
      ]
    },
    {
      "cell_type": "markdown",
      "metadata": {
        "id": "r04t8z7wGP_V",
        "colab_type": "text"
      },
      "source": [
        "## Data Preprocesssing"
      ]
    },
    {
      "cell_type": "code",
      "metadata": {
        "id": "sFC9qKXXtBa2",
        "colab_type": "code",
        "colab": {}
      },
      "source": [
        "def remove_stopword(text):\n",
        "    \"\"\" Remove stopword in text.\n",
        "    # Arguments\n",
        "        text = string.\n",
        "    # Returns\n",
        "        Input text without stopword in it.\n",
        "    \"\"\"\n",
        "    stop = stopwords.words('english')\n",
        "    result = []\n",
        "    for word in text.split():\n",
        "        if word not in stop:\n",
        "            result.append(word)\n",
        "    return \" \".join(result)\n",
        "\n",
        "def lemmatize_text(text):\n",
        "    \"\"\" Change every word in a text to its base form if it can be found in wordnet.\n",
        "    # Arguments\n",
        "        text = string.\n",
        "    # Returns\n",
        "        Input text that has been lemmatized.\n",
        "    \"\"\"\n",
        "    lemmatizer = WordNetLemmatizer()\n",
        "    result = []\n",
        "    for word in text.split():\n",
        "        result.append(lemmatizer.lemmatize(word))\n",
        "    return \" \".join(result)\n",
        "\n",
        "def text_preprocess(list_text):\n",
        "    \"\"\" Data preprocess for each string in a series. The steps are:\n",
        "        1. Convert text into lowercase form.\n",
        "        2. Remove newline.\n",
        "        3. Remove special character.\n",
        "        4. Remove stopwords.\n",
        "        5. Lematization.\n",
        "    # Arguments\n",
        "        list_text = A series of string.\n",
        "    # Returns\n",
        "        A series of string that has been processed.\n",
        "    \"\"\"\n",
        "    # convert to lowercase\n",
        "    list_text = list_text.str.lower()\n",
        "    # remove newline\n",
        "    list_text = list_text.str.replace(r'\\n',' ')\n",
        "    # remove special character\n",
        "    list_text = list_text.str.replace(r'[^a-zA-z0-9\\s]','')\n",
        "    # remove stopwords\n",
        "    list_text = list_text.apply(remove_stopword)\n",
        "    # Lematization\n",
        "    list_text = list_text.apply(lemmatize_text)\n",
        "    return list_text.str.strip()"
      ],
      "execution_count": 8,
      "outputs": []
    },
    {
      "cell_type": "code",
      "metadata": {
        "id": "lXxgfl1p4-ud",
        "colab_type": "code",
        "colab": {
          "base_uri": "https://localhost:8080/",
          "height": 83
        },
        "outputId": "6be30a1d-740f-4cc2-c9eb-6596afacbd65"
      },
      "source": [
        "# before preprocess\n",
        "df.STORY[3]"
      ],
      "execution_count": 9,
      "outputs": [
        {
          "output_type": "execute_result",
          "data": {
            "application/vnd.google.colaboratory.intrinsic+json": {
              "type": "string"
            },
            "text/plain": [
              "'If you want to answer any question, click on ‘Answer’. After clicking on Answer you can also check out replies of other users. Proceed to Answer either through writing or voice command.\\n\\n\\nIf you want to ask any question, click on “Ask A Question\". Few question prefixes are already inserted to help you with your questions. After submitting your question, the app will send the questions to your neighbours and will let you know how many neighbours\\n\\n\\nhave been asked the question. Click Done. You can click on the bell icon on the homepage of the app to follow answers to your questions.'"
            ]
          },
          "metadata": {
            "tags": []
          },
          "execution_count": 9
        }
      ]
    },
    {
      "cell_type": "code",
      "metadata": {
        "id": "8mmQ5qPxMpvH",
        "colab_type": "code",
        "colab": {}
      },
      "source": [
        "df.STORY = text_preprocess(df.STORY)"
      ],
      "execution_count": 10,
      "outputs": []
    },
    {
      "cell_type": "code",
      "metadata": {
        "id": "iljegAQh5Jtp",
        "colab_type": "code",
        "colab": {
          "base_uri": "https://localhost:8080/",
          "height": 67
        },
        "outputId": "16769c5d-e03e-457a-819f-24c210dd9a12"
      },
      "source": [
        "#after preprocess\n",
        "df.STORY[3]"
      ],
      "execution_count": 11,
      "outputs": [
        {
          "output_type": "execute_result",
          "data": {
            "application/vnd.google.colaboratory.intrinsic+json": {
              "type": "string"
            },
            "text/plain": [
              "'want answer question click answer clicking answer also check reply user proceed answer either writing voice command want ask question click ask question question prefix already inserted help question submitting question app send question neighbour let know many neighbour asked question click done click bell icon homepage app follow answer question'"
            ]
          },
          "metadata": {
            "tags": []
          },
          "execution_count": 11
        }
      ]
    },
    {
      "cell_type": "markdown",
      "metadata": {
        "id": "7dfdETXIGVWP",
        "colab_type": "text"
      },
      "source": [
        "## Split Dataset"
      ]
    },
    {
      "cell_type": "code",
      "metadata": {
        "id": "ajRofB9NJoM0",
        "colab_type": "code",
        "colab": {}
      },
      "source": [
        "X = df.STORY.values\n",
        "y = df.SECTION.values"
      ],
      "execution_count": 12,
      "outputs": []
    },
    {
      "cell_type": "code",
      "metadata": {
        "id": "66-R2ZpLMfv1",
        "colab_type": "code",
        "colab": {}
      },
      "source": [
        "X_train, X_val, y_train, y_val = train_test_split(X, y, test_size=0.2, \n",
        "                                                  stratify=y, random_state=42)"
      ],
      "execution_count": 13,
      "outputs": []
    },
    {
      "cell_type": "markdown",
      "metadata": {
        "id": "hSEWyfIdGqfg",
        "colab_type": "text"
      },
      "source": [
        "## Tokenization"
      ]
    },
    {
      "cell_type": "code",
      "metadata": {
        "id": "uWLWpjdKO4LR",
        "colab_type": "code",
        "colab": {}
      },
      "source": [
        "tokenizer = Tokenizer(num_words=5000, oov_token='UNK')\n",
        "tokenizer.fit_on_texts(X_train)\n",
        " \n",
        "sekuens_train = tokenizer.texts_to_sequences(X_train)\n",
        "sekuens_val = tokenizer.texts_to_sequences(X_val)\n",
        " \n",
        "padded_train = pad_sequences(sekuens_train) \n",
        "padded_val = pad_sequences(sekuens_val)"
      ],
      "execution_count": 14,
      "outputs": []
    },
    {
      "cell_type": "markdown",
      "metadata": {
        "id": "V_lCn11SMz53",
        "colab_type": "text"
      },
      "source": [
        "## Create Model"
      ]
    },
    {
      "cell_type": "code",
      "metadata": {
        "id": "KHgrb-HCPDlx",
        "colab_type": "code",
        "colab": {}
      },
      "source": [
        "model = tf.keras.Sequential([\n",
        "    tf.keras.layers.Embedding(input_dim=5000, output_dim=16),\n",
        "    tf.keras.layers.LSTM(128, dropout=0.5),\n",
        "    tf.keras.layers.Dense(64, activation='relu'),\n",
        "    tf.keras.layers.Dropout(0.5),\n",
        "    tf.keras.layers.Dense(4, activation='softmax')\n",
        "])\n",
        "\n",
        "model.compile(loss='sparse_categorical_crossentropy', \n",
        "              optimizer='adamax', metrics=['accuracy'])"
      ],
      "execution_count": 15,
      "outputs": []
    },
    {
      "cell_type": "code",
      "metadata": {
        "id": "3RMd9zle9jhE",
        "colab_type": "code",
        "colab": {
          "base_uri": "https://localhost:8080/",
          "height": 310
        },
        "outputId": "c42207c2-0d45-44bc-945c-076f260d37b8"
      },
      "source": [
        "model.summary()"
      ],
      "execution_count": 16,
      "outputs": [
        {
          "output_type": "stream",
          "text": [
            "Model: \"sequential\"\n",
            "_________________________________________________________________\n",
            "Layer (type)                 Output Shape              Param #   \n",
            "=================================================================\n",
            "embedding (Embedding)        (None, None, 16)          80000     \n",
            "_________________________________________________________________\n",
            "lstm (LSTM)                  (None, 128)               74240     \n",
            "_________________________________________________________________\n",
            "dense (Dense)                (None, 64)                8256      \n",
            "_________________________________________________________________\n",
            "dropout (Dropout)            (None, 64)                0         \n",
            "_________________________________________________________________\n",
            "dense_1 (Dense)              (None, 4)                 260       \n",
            "=================================================================\n",
            "Total params: 162,756\n",
            "Trainable params: 162,756\n",
            "Non-trainable params: 0\n",
            "_________________________________________________________________\n"
          ],
          "name": "stdout"
        }
      ]
    },
    {
      "cell_type": "code",
      "metadata": {
        "id": "_gkkAgrROBGf",
        "colab_type": "code",
        "colab": {
          "base_uri": "https://localhost:8080/",
          "height": 505
        },
        "outputId": "a704751d-044e-4ab8-c953-c03aa57f5909"
      },
      "source": [
        "num_epochs = 15\n",
        "history = model.fit(padded_train, y_train, epochs=num_epochs, \n",
        "                    validation_data=(padded_val, y_val), verbose=2)"
      ],
      "execution_count": 17,
      "outputs": [
        {
          "output_type": "stream",
          "text": [
            "Epoch 1/15\n",
            "191/191 - 20s - loss: 1.2918 - accuracy: 0.4131 - val_loss: 1.1416 - val_accuracy: 0.4902\n",
            "Epoch 2/15\n",
            "191/191 - 19s - loss: 1.0187 - accuracy: 0.5610 - val_loss: 0.7907 - val_accuracy: 0.6913\n",
            "Epoch 3/15\n",
            "191/191 - 19s - loss: 0.7064 - accuracy: 0.7199 - val_loss: 0.5748 - val_accuracy: 0.7674\n",
            "Epoch 4/15\n",
            "191/191 - 19s - loss: 0.6131 - accuracy: 0.7675 - val_loss: 0.5320 - val_accuracy: 0.8145\n",
            "Epoch 5/15\n",
            "191/191 - 19s - loss: 0.5723 - accuracy: 0.7720 - val_loss: 0.4722 - val_accuracy: 0.8093\n",
            "Epoch 6/15\n",
            "191/191 - 19s - loss: 0.4739 - accuracy: 0.8163 - val_loss: 0.4008 - val_accuracy: 0.8545\n",
            "Epoch 7/15\n",
            "191/191 - 19s - loss: 0.3948 - accuracy: 0.8622 - val_loss: 0.3276 - val_accuracy: 0.9024\n",
            "Epoch 8/15\n",
            "191/191 - 19s - loss: 0.3275 - accuracy: 0.9009 - val_loss: 0.2918 - val_accuracy: 0.9135\n",
            "Epoch 9/15\n",
            "191/191 - 19s - loss: 0.2772 - accuracy: 0.9176 - val_loss: 0.2592 - val_accuracy: 0.9246\n",
            "Epoch 10/15\n",
            "191/191 - 19s - loss: 0.2547 - accuracy: 0.9207 - val_loss: 0.2324 - val_accuracy: 0.9325\n",
            "Epoch 11/15\n",
            "191/191 - 19s - loss: 0.2259 - accuracy: 0.9343 - val_loss: 0.2319 - val_accuracy: 0.9384\n",
            "Epoch 12/15\n",
            "191/191 - 19s - loss: 0.2233 - accuracy: 0.9333 - val_loss: 0.2100 - val_accuracy: 0.9377\n",
            "Epoch 13/15\n",
            "191/191 - 19s - loss: 0.1929 - accuracy: 0.9426 - val_loss: 0.1950 - val_accuracy: 0.9476\n",
            "Epoch 14/15\n",
            "191/191 - 19s - loss: 0.1900 - accuracy: 0.9449 - val_loss: 0.1946 - val_accuracy: 0.9476\n",
            "Epoch 15/15\n",
            "191/191 - 19s - loss: 0.1758 - accuracy: 0.9482 - val_loss: 0.1991 - val_accuracy: 0.9450\n"
          ],
          "name": "stdout"
        }
      ]
    },
    {
      "cell_type": "markdown",
      "metadata": {
        "id": "1G_Vmq5eNInp",
        "colab_type": "text"
      },
      "source": [
        "## Plot Training History"
      ]
    },
    {
      "cell_type": "code",
      "metadata": {
        "id": "TqzNWQLNKghT",
        "colab_type": "code",
        "colab": {
          "base_uri": "https://localhost:8080/",
          "height": 572
        },
        "outputId": "977b7386-8028-4040-84a7-c1c38ff3f8f6"
      },
      "source": [
        "#  \"Accuracy\"\n",
        "plt.plot(history.history['accuracy'])\n",
        "plt.plot(history.history['val_accuracy'])\n",
        "plt.title('model accuracy')\n",
        "plt.ylabel('accuracy')\n",
        "plt.xlabel('epoch')\n",
        "plt.legend(['train', 'validation'], loc='upper left')\n",
        "plt.show()\n",
        "# \"Loss\"\n",
        "plt.plot(history.history['loss'])\n",
        "plt.plot(history.history['val_loss'])\n",
        "plt.title('model loss')\n",
        "plt.ylabel('loss')\n",
        "plt.xlabel('epoch')\n",
        "plt.legend(['train', 'validation'], loc='upper left')\n",
        "plt.show()"
      ],
      "execution_count": 18,
      "outputs": [
        {
          "output_type": "display_data",
          "data": {
            "image/png": "[encoded data removed]",
            "text/plain": [
              "<Figure size 432x288 with 1 Axes>"
            ]
          },
          "metadata": {
            "tags": [],
            "needs_background": "light"
          }
        },
        {
          "output_type": "display_data",
          "data": {
            "image/png": "[encoded data removed]",
            "text/plain": [
              "<Figure size 432x288 with 1 Axes>"
            ]
          },
          "metadata": {
            "tags": [],
            "needs_background": "light"
          }
        }
      ]
    },
    {
      "cell_type": "markdown",
      "metadata": {
        "id": "bu3GQsipNQhg",
        "colab_type": "text"
      },
      "source": [
        "## Predict on Test Dataset"
      ]
    },
    {
      "cell_type": "code",
      "metadata": {
        "id": "QvOrlQc27yjF",
        "colab_type": "code",
        "colab": {}
      },
      "source": [
        "test_df = pd.read_excel('/content/Data_Test.xlsx')"
      ],
      "execution_count": 19,
      "outputs": []
    },
    {
      "cell_type": "code",
      "metadata": {
        "id": "aMkn1DGiAf2Q",
        "colab_type": "code",
        "colab": {}
      },
      "source": [
        "X_test = text_preprocess(test_df.STORY).values"
      ],
      "execution_count": 20,
      "outputs": []
    },
    {
      "cell_type": "code",
      "metadata": {
        "id": "FC0_Ffo1PSi7",
        "colab_type": "code",
        "colab": {}
      },
      "source": [
        "sekuens_test = tokenizer.texts_to_sequences(X_test)\n",
        "padded_test = pad_sequences(sekuens_test) "
      ],
      "execution_count": 21,
      "outputs": []
    },
    {
      "cell_type": "code",
      "metadata": {
        "id": "jMHNzrPKBMtx",
        "colab_type": "code",
        "colab": {
          "base_uri": "https://localhost:8080/",
          "height": 391
        },
        "outputId": "7510011c-525f-45c0-8229-377047609dd6"
      },
      "source": [
        "y_test = model.predict(padded_test)\n",
        "test_df['prediction'] = np.argmax(y_test,axis=1)\n",
        "test_df"
      ],
      "execution_count": 22,
      "outputs": [
        {
          "output_type": "execute_result",
          "data": {
            "text/html": [
              "<div>\n",
              "<style scoped>\n",
              "    .dataframe tbody tr th:only-of-type {\n",
              "        vertical-align: middle;\n",
              "    }\n",
              "\n",
              "    .dataframe tbody tr th {\n",
              "        vertical-align: top;\n",
              "    }\n",
              "\n",
              "    .dataframe thead th {\n",
              "        text-align: right;\n",
              "    }\n",
              "</style>\n",
              "<table border=\"1\" class=\"dataframe\">\n",
              "  <thead>\n",
              "    <tr style=\"text-align: right;\">\n",
              "      <th></th>\n",
              "      <th>STORY</th>\n",
              "      <th>prediction</th>\n",
              "    </tr>\n",
              "  </thead>\n",
              "  <tbody>\n",
              "    <tr>\n",
              "      <th>0</th>\n",
              "      <td>2019 will see gadgets like gaming smartphones ...</td>\n",
              "      <td>1</td>\n",
              "    </tr>\n",
              "    <tr>\n",
              "      <th>1</th>\n",
              "      <td>It has also unleashed a wave of changes in the...</td>\n",
              "      <td>2</td>\n",
              "    </tr>\n",
              "    <tr>\n",
              "      <th>2</th>\n",
              "      <td>It can be confusing to pick the right smartpho...</td>\n",
              "      <td>1</td>\n",
              "    </tr>\n",
              "    <tr>\n",
              "      <th>3</th>\n",
              "      <td>The mobile application is integrated with a da...</td>\n",
              "      <td>0</td>\n",
              "    </tr>\n",
              "    <tr>\n",
              "      <th>4</th>\n",
              "      <td>We have rounded up some of the gadgets that sh...</td>\n",
              "      <td>1</td>\n",
              "    </tr>\n",
              "    <tr>\n",
              "      <th>...</th>\n",
              "      <td>...</td>\n",
              "      <td>...</td>\n",
              "    </tr>\n",
              "    <tr>\n",
              "      <th>2743</th>\n",
              "      <td>According to researchers, fraud in the mobile ...</td>\n",
              "      <td>1</td>\n",
              "    </tr>\n",
              "    <tr>\n",
              "      <th>2744</th>\n",
              "      <td>The iPhone XS and XS Max share the Apple A12 c...</td>\n",
              "      <td>1</td>\n",
              "    </tr>\n",
              "    <tr>\n",
              "      <th>2745</th>\n",
              "      <td>On the photography front, the Note 5 Pro featu...</td>\n",
              "      <td>1</td>\n",
              "    </tr>\n",
              "    <tr>\n",
              "      <th>2746</th>\n",
              "      <td>UDAY mandated that discoms bring the gap betwe...</td>\n",
              "      <td>0</td>\n",
              "    </tr>\n",
              "    <tr>\n",
              "      <th>2747</th>\n",
              "      <td>Ripple also helps bank customers send money to...</td>\n",
              "      <td>1</td>\n",
              "    </tr>\n",
              "  </tbody>\n",
              "</table>\n",
              "<p>2748 rows × 2 columns</p>\n",
              "</div>"
            ],
            "text/plain": [
              "                                                  STORY  prediction\n",
              "0     2019 will see gadgets like gaming smartphones ...           1\n",
              "1     It has also unleashed a wave of changes in the...           2\n",
              "2     It can be confusing to pick the right smartpho...           1\n",
              "3     The mobile application is integrated with a da...           0\n",
              "4     We have rounded up some of the gadgets that sh...           1\n",
              "...                                                 ...         ...\n",
              "2743  According to researchers, fraud in the mobile ...           1\n",
              "2744  The iPhone XS and XS Max share the Apple A12 c...           1\n",
              "2745  On the photography front, the Note 5 Pro featu...           1\n",
              "2746  UDAY mandated that discoms bring the gap betwe...           0\n",
              "2747  Ripple also helps bank customers send money to...           1\n",
              "\n",
              "[2748 rows x 2 columns]"
            ]
          },
          "metadata": {
            "tags": []
          },
          "execution_count": 22
        }
      ]
    },
    {
      "cell_type": "code",
      "metadata": {
        "id": "OsPheuVcETs5",
        "colab_type": "code",
        "colab": {
          "base_uri": "https://localhost:8080/",
          "height": 132
        },
        "outputId": "a98d4ba0-144a-4b90-e95d-0ba6bd1e5d15"
      },
      "source": [
        "test_df.STORY[0] #prediction: Teknologi"
      ],
      "execution_count": 23,
      "outputs": [
        {
          "output_type": "execute_result",
          "data": {
            "application/vnd.google.colaboratory.intrinsic+json": {
              "type": "string"
            },
            "text/plain": [
              "'2019 will see gadgets like gaming smartphones and wearable medical devices lifting the user experience to a whole new level\\n\\n\\nmint-india-wire consumer technologyconsumer technology trends in New Yeartech gadgetsFoldable phonesgaming smartphoneswearable medical devicestechnology\\n\\n\\nNew Delhi: Gadgets have become an integral part of our lives with most of us relying on some form of factor to communicate, commute, work, be informed or entertained. Year 2019 will see some gadgets lifting the user experience to a whole new level. Here’s what we can expect to see:\\n\\n\\nSmartphones with foldable screens: Foldable phones are finally moving from the concept stage to commercial launches. They are made up of organic light-emitting diode (OLED) panels with higher plastic substrates, allowing them to be bent without damage.\\n\\n\\nUS-based display maker Royole Corp’s foldable phone, FlexPai, has already arrived in select markets, while Samsung’s unnamed foldable phone is expected sometime next year. Samsung’s smartphone chief executive officer D.J. Koh has said they will make a million units of it. LG, too, is expected to display a foldable phone next year. Meanwhile Apple, Nokia, Lenovo and Huawei have also been working on foldable phones, reportedly.\\n\\n\\neSIM: Very soon your smartphone won’t need a physical SIM card anymore. The eSIM technology, already used by Apple in its iPhones and Apple Watch, replaces the physical SIM with a virtually embedded chip on the motherboard. eSIMs support multiple mobile operators and can be programmed to switch services.'"
            ]
          },
          "metadata": {
            "tags": []
          },
          "execution_count": 23
        }
      ]
    },
    {
      "cell_type": "code",
      "metadata": {
        "id": "jGBYQT_5WLJF",
        "colab_type": "code",
        "colab": {
          "base_uri": "https://localhost:8080/",
          "height": 51
        },
        "outputId": "88d9e0e1-46cb-424f-8b43-da6a004d2f1c"
      },
      "source": [
        "test_df.STORY[1] #prediction: Entertaiment"
      ],
      "execution_count": 24,
      "outputs": [
        {
          "output_type": "execute_result",
          "data": {
            "application/vnd.google.colaboratory.intrinsic+json": {
              "type": "string"
            },
            "text/plain": [
              "'It has also unleashed a wave of changes in the MCU that will make sure its future is a lot different than its past\\n\\n\\nKevin Feige had signalled diversity and more representation in the post-phase 3 MCU and Endgame does a lot to showcase the initiative'"
            ]
          },
          "metadata": {
            "tags": []
          },
          "execution_count": 24
        }
      ]
    }
  ]
}